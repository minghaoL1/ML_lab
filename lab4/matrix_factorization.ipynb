{
 "cells": [
  {
   "cell_type": "code",
   "execution_count": 1,
   "metadata": {},
   "outputs": [],
   "source": [
    "import pandas as pd\n",
    "from numpy import *\n",
    "import numpy as np\n",
    "import matplotlib.pyplot as plt\n",
    "import pickle\n",
    "import os\n",
    "import time"
   ]
  },
  {
   "cell_type": "markdown",
   "metadata": {},
   "source": [
    "# Hyper-params"
   ]
  },
  {
   "cell_type": "code",
   "execution_count": 2,
   "metadata": {},
   "outputs": [],
   "source": [
    "PEN_FAC = 0.5\n",
    "K = 10\n",
    "LR_RATE = 0.0002\n",
    "MAX_EPOCH = 100\n",
    "THRESHOLD = 0.001\n",
    "TEST_SIZE = 0.2"
   ]
  },
  {
   "cell_type": "markdown",
   "metadata": {},
   "source": [
    "# Matrix Factorization\n",
    "\n",
    "\n",
    "$$ R_{m \\times n} \\to P_{m \\times k}\\times Q_{k \\times n} $$\n",
    "\n",
    "\n",
    "## Square loss as training error\n",
    "\n",
    "$$ e^2_{ij} = (r_{ij} - \\hat{r}_{ij})^2 = (r_{ij} - \\sum_{k=1}^{K}p_{ik}q_{kj})^2$$\n",
    "\n",
    "## Regularized squared error\n",
    "\n",
    "$$ E^2_{ij} = (r_{ij} - \\sum_{k=1}^{K}p_{ik}q_{kj})^2 + \\frac{\\lambda}{2}\\sum_{k=1}^{K}(p_{ik}^2 + q_{kj}^2)$$\n",
    "\n",
    "## Derivative of loss function\n",
    "\n",
    "$$\\frac{\\partial E^2_{ij}}{\\partial p_{ik}} = -2q_{kj}(r_{ij} - \\hat{r}_{ij}) = -2e_{ij}q_{kj} + \\lambda p_{ik}$$\n",
    "\n",
    "$$\\frac{\\partial E^2_{kj}}{\\partial q_{ik}} = -2p_{ik}(r_{ij} - \\hat{r}_{ij}) = -2e_{ij}p_{ik} + \\lambda q_{kj}$$\n",
    "\n",
    "## Update factorized matrix $P$, $Q$\n",
    "\n",
    "$$ p_{ik} \\to p_{ik} + \\alpha \\frac{\\partial E^2_{ij}}{\\partial p_{ik}} = p_{ik} + \\alpha(2e_{ij}q_{kj} - \\lambda p_{ik}) $$\n",
    "\n",
    "$$ q_{kj} \\to q_{kj} + \\alpha \\frac{\\partial E^2_{ij}}{\\partial q_{kj}} = q_{kj} + \\alpha(2e_{ij}p^{\\prime}_{ik} - \\lambda q_{kj}) $$"
   ]
  },
  {
   "cell_type": "code",
   "execution_count": 3,
   "metadata": {},
   "outputs": [],
   "source": [
    "def compute_loss(R, P, Q):\n",
    "    loss = 0\n",
    "    E = R - P.dot(Q.T)\n",
    "    loss = (E * E).sum() + PEN_FAC / 2 * ((P * P).sum() + (Q * Q).sum())\n",
    "    return loss"
   ]
  },
  {
   "cell_type": "code",
   "execution_count": null,
   "metadata": {},
   "outputs": [],
   "source": [
    "#计算预测结果和数据集之间的RMSE\n",
    "def rmse(R, P, Q):\n",
    "    X_pred = P @ Q.T\n",
    "    X_pred = X_pred[np.nonzero(R)]\n",
    "    R = R[np.nonzero(R)]\n",
    "    Error = R - X_pred\n",
    "    return np.sqrt((Error * Error).sum()) / Error.size"
   ]
  },
  {
   "cell_type": "code",
   "execution_count": 5,
   "metadata": {},
   "outputs": [],
   "source": [
    "def update_P(P, Q_t, R):\n",
    "    m, n = R.shape[0], R.shape[1]\n",
    "    for u in range(m):\n",
    "        Q_sub = np.empty([K,0])\n",
    "        R_sub = [] \n",
    "        for v in range(n):\n",
    "            if R[u][v] > 0:\n",
    "                Q_sub = hstack((Q_sub, Q_t[:,v].reshape([-1,1])))\n",
    "                R_sub.append(R[u][v])\n",
    "        R_sub = np.array([R_sub])\n",
    "        Au = mat((Q_sub @ Q_sub.T + PEN_FAC * np.eye(K)))\n",
    "        Bu = Q_sub.dot(R_sub.T)\n",
    "        P[u,:] = (Au.I @ Bu).ravel()\n",
    "    return P\n",
    "        \n",
    "\n",
    "def update_Q(P, Q, R):\n",
    "    m, n = R.shape[0], R.shape[1]\n",
    "    for v in range(n):\n",
    "        P_sub = np.empty([0,K])\n",
    "        R_sub = []\n",
    "        for u in range(m):\n",
    "            if R[u][v] > 0:\n",
    "                P_sub = vstack((P_sub, P[u,:]))\n",
    "                R_sub.append(R[u][v])\n",
    "        R_sub = np.array([R_sub])\n",
    "        Au = mat((P_sub.T @ P_sub + PEN_FAC * np.eye(K)))\n",
    "        Bu = P_sub.T @ R_sub.T\n",
    "        Q[v,:] = (Au.I @ Bu).ravel()\n",
    "    return Q"
   ]
  },
  {
   "cell_type": "code",
   "execution_count": 6,
   "metadata": {},
   "outputs": [],
   "source": [
    "# def update_fac_matrix(R, P, Q):\n",
    "#     pass\n",
    "#     for i in range(R.shape[0]):\n",
    "#         for j in range(X_train.shape[1]):\n",
    "#             if X_train[i][j] > 0:\n",
    "#                 E = R - P.dot(Q)\n",
    "#                 e_ij = E[i][j]\n",
    "#                 for k in range(K):\n",
    "#                     P[i][k] = P[i][k] - LR_RATE * (-2 * e_ij * Q[k][j] + PEN_FAC * P[i][k])\n",
    "#                     Q[k][j] = Q[k][j] - LR_RATE * (-2 * e_ij * P[i][k] + PEN_FAC * Q[k][j])\n",
    "#     return P, Q"
   ]
  },
  {
   "cell_type": "code",
   "execution_count": 7,
   "metadata": {},
   "outputs": [],
   "source": [
    "def preprocess(df):\n",
    "    X = np.zeros((N_USERS, N_ITEMS))\n",
    "    \n",
    "    for i in range(df.shape[0]):\n",
    "        u_idx = df.iloc[i, 0] - 1\n",
    "        i_idx = df.iloc[i, 1] - 1\n",
    "        X[u_idx, i_idx] = df.iloc[i, 2]    \n",
    "    return X"
   ]
  },
  {
   "cell_type": "code",
   "execution_count": 8,
   "metadata": {},
   "outputs": [],
   "source": [
    "TRAIN_DATA_FILE = 'u1.base'\n",
    "TEST_DATA_FILE = 'u1.test'\n",
    "DATA_PATH = './ml-100k'\n",
    "DUMP_PATH = './dump'\n",
    "\n",
    "\n",
    "#将数据转换成矩阵，用pickle保存到dump目录下\n",
    "def load_dataset(train_file, test_file):\n",
    "    pk_train_file = '{}/{}.pk'.format(DUMP_PATH, train_file)\n",
    "    pk_test_file = '{}/{}.pk'.format(DUMP_PATH, test_file)                             \n",
    "    if os.path.exists(pk_train_file):\n",
    "        with open(pk_train_file, 'rb') as f:\n",
    "            X_train = pickle.load(f)\n",
    "    else:\n",
    "        train_data_file = '{}/{}'.format(DATA_PATH, train_file)\n",
    "        df_train = pd.read_csv(train_data_file, sep='\\t', names=['user_id', 'item_id', 'rating', 'timestamp'])\n",
    "        X_train = preprocess(df_train)\n",
    "        with open(pk_train_file, 'wb') as f:\n",
    "            pickle.dump(X_train, f)\n",
    "        \n",
    "    if os.path.exists(pk_test_file):\n",
    "        with open(pk_test_file, 'rb') as f:\n",
    "            X_test = pickle.load(f)\n",
    "    else:\n",
    "        test_data_file = '{}/{}'.format(DATA_PATH, test_file)\n",
    "        df_test = pd.read_csv(test_data_file, sep='\\t', names=['user_id', 'item_id', 'rating', 'timestamp'])\n",
    "        X_test = preprocess(df_test)\n",
    "        with open(pk_test_file, 'wb') as f:\n",
    "            pickle.dump(X_test, f)\n",
    "            \n",
    "    return X_train, X_test"
   ]
  },
  {
   "cell_type": "code",
   "execution_count": 9,
   "metadata": {},
   "outputs": [
    {
     "name": "stdout",
     "output_type": "stream",
     "text": [
      "epoch #1...\n",
      "epoch #2...\n",
      "epoch #3...\n",
      "epoch #4...\n",
      "epoch #5...\n",
      "epoch #6...\n",
      "epoch #7...\n",
      "epoch #8...\n",
      "epoch #9...\n",
      "epoch #10...\n",
      "epoch #11...\n",
      "epoch #12...\n",
      "epoch #13...\n",
      "epoch #14...\n",
      "epoch #15...\n",
      "epoch #16...\n",
      "epoch #17...\n",
      "epoch #18...\n",
      "epoch #19...\n",
      "epoch #20...\n",
      "epoch #21...\n",
      "epoch #22...\n",
      "epoch #23...\n",
      "epoch #24...\n",
      "epoch #25...\n",
      "epoch #26...\n",
      "epoch #27...\n",
      "epoch #28...\n",
      "epoch #29...\n",
      "epoch #30...\n",
      "epoch #31...\n",
      "epoch #32...\n",
      "epoch #33...\n",
      "epoch #34...\n",
      "epoch #35...\n",
      "epoch #36...\n",
      "epoch #37...\n",
      "epoch #38...\n",
      "epoch #39...\n",
      "epoch #40...\n",
      "epoch #41...\n",
      "epoch #42...\n",
      "epoch #43...\n",
      "epoch #44...\n",
      "epoch #45...\n",
      "epoch #46...\n",
      "epoch #47...\n",
      "epoch #48...\n",
      "epoch #49...\n",
      "epoch #50...\n",
      "epoch #51...\n",
      "epoch #52...\n",
      "epoch #53...\n",
      "epoch #54...\n",
      "epoch #55...\n",
      "epoch #56...\n",
      "epoch #57...\n",
      "epoch #58...\n",
      "epoch #59...\n",
      "epoch #60...\n",
      "epoch #61...\n",
      "epoch #62...\n",
      "epoch #63...\n",
      "epoch #64...\n",
      "epoch #65...\n",
      "epoch #66...\n",
      "epoch #67...\n",
      "epoch #68...\n",
      "epoch #69...\n",
      "epoch #70...\n",
      "epoch #71...\n",
      "epoch #72...\n",
      "epoch #73...\n",
      "epoch #74...\n",
      "epoch #75...\n",
      "epoch #76...\n",
      "epoch #77...\n",
      "epoch #78...\n",
      "epoch #79...\n",
      "epoch #80...\n",
      "epoch #81...\n",
      "epoch #82...\n",
      "epoch #83...\n",
      "epoch #84...\n",
      "epoch #85...\n",
      "epoch #86...\n",
      "epoch #87...\n",
      "epoch #88...\n",
      "epoch #89...\n",
      "epoch #90...\n",
      "epoch #91...\n",
      "epoch #92...\n",
      "epoch #93...\n",
      "epoch #94...\n",
      "epoch #95...\n",
      "epoch #96...\n",
      "epoch #97...\n",
      "epoch #98...\n",
      "epoch #99...\n",
      "epoch #100...\n",
      "Training Time: 7.86 min\n"
     ]
    }
   ],
   "source": [
    "N_USERS = 943\n",
    "N_ITEMS = 1682\n",
    "\n",
    "if __name__ == '__main__':\n",
    "    X_train, X_test = load_dataset(TRAIN_DATA_FILE, TEST_DATA_FILE)\n",
    "    \n",
    "    P = np.random.rand(N_USERS, K)\n",
    "    Q = np.random.rand(N_ITEMS, K)\n",
    "    \n",
    "    train_losses = []\n",
    "    test_losses = []\n",
    "    \n",
    "    start_time = time.time()\n",
    "    \n",
    "    for epoch in range(MAX_EPOCH):\n",
    "        print('epoch #{}...'.format(epoch + 1))\n",
    "        P = update_P(P, Q.T, X_train)\n",
    "        Q = update_Q(P, Q, X_train)\n",
    "        loss = compute_loss(X_train, P, Q)\n",
    "        train_losses.append(loss)\n",
    "        test_losses.append(compute_loss(X_test, P, Q))\n",
    "        if loss < THRESHOLD:\n",
    "            break\n",
    "    training_time = (time.time() - start_time) / 60\n",
    "    print(\"Training Time: {:.2f} min\".format(training_time))"
   ]
  },
  {
   "cell_type": "code",
   "execution_count": 10,
   "metadata": {},
   "outputs": [
    {
     "data": {
      "image/png": "[encoded data removed]",
      "text/plain": [
       "<Figure size 432x288 with 1 Axes>"
      ]
     },
     "metadata": {
      "needs_background": "light"
     },
     "output_type": "display_data"
    }
   ],
   "source": [
    "plt.subplot(121)\n",
    "plt.plot(train_losses, label=\"Training Loss\")\n",
    "plt.plot(test_losses, label=\"Testing Loss\")\n",
    "plt.xlabel('Epoch')\n",
    "plt.ylabel('Loss')\n",
    "plt.legend()\n",
    "plt.show()"
   ]
  },
  {
   "cell_type": "code",
   "execution_count": 11,
   "metadata": {},
   "outputs": [
    {
     "name": "stdout",
     "output_type": "stream",
     "text": [
      "[[5. 3. 4. ... 0. 0. 0.]\n",
      " [4. 0. 0. ... 0. 0. 0.]\n",
      " [0. 0. 0. ... 0. 0. 0.]\n",
      " ...\n",
      " [5. 0. 0. ... 0. 0. 0.]\n",
      " [0. 0. 0. ... 0. 0. 0.]\n",
      " [0. 5. 0. ... 0. 0. 0.]]\n"
     ]
    }
   ],
   "source": [
    "print(X_train)"
   ]
  },
  {
   "cell_type": "code",
   "execution_count": 12,
   "metadata": {},
   "outputs": [
    {
     "name": "stdout",
     "output_type": "stream",
     "text": [
      "[[3.82494336 2.84488789 3.27191511 ... 1.01568304 2.49818058 2.70599654]\n",
      " [3.91835511 3.30663995 3.54463755 ... 0.79589599 2.54547632 2.6229507 ]\n",
      " [3.49335533 1.68815851 0.88256767 ... 0.82532256 1.1326096  1.33122603]\n",
      " ...\n",
      " [4.54853688 3.1117695  4.38049905 ... 1.07383808 2.47843908 2.74356332]\n",
      " [4.48531683 4.07418772 3.23584109 ... 0.75499376 2.60631956 2.33748627]\n",
      " [4.09813661 3.86884071 4.21281332 ... 1.2628424  2.52642077 1.75691471]]\n"
     ]
    }
   ],
   "source": [
    "print(P @ Q.T)"
   ]
  },
  {
   "cell_type": "code",
   "execution_count": 28,
   "metadata": {},
   "outputs": [
    {
     "name": "stdout",
     "output_type": "stream",
     "text": [
      "80000\n",
      "0.002298354272977138\n"
     ]
    }
   ],
   "source": [
    "# print(x, y)\n",
    "# X_pred = P @ Q.T\n",
    "# print(X_train[np.nonzero(X_train)].shape)\n",
    "# print(X_pred[np.nonzero(X_train)].shape)\n",
    "print(rmse(X_train, P, Q))"
   ]
  },
  {
   "cell_type": "code",
   "execution_count": null,
   "metadata": {},
   "outputs": [],
   "source": []
  }
 ],
 "metadata": {
  "kernelspec": {
   "display_name": "Python 3",
   "language": "python",
   "name": "python3"
  },
  "language_info": {
   "codemirror_mode": {
    "name": "ipython",
    "version": 3
   },
   "file_extension": ".py",
   "mimetype": "text/x-python",
   "name": "python",
   "nbconvert_exporter": "python",
   "pygments_lexer": "ipython3",
   "version": "3.7.1"
  }
 },
 "nbformat": 4,
 "nbformat_minor": 2
}
